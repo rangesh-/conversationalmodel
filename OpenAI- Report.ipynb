{
 "cells": [
  {
   "cell_type": "code",
   "execution_count": null,
   "id": "bbd1a3f6",
   "metadata": {},
   "outputs": [],
   "source": [
    "pip install llama-index"
   ]
  },
  {
   "cell_type": "code",
   "execution_count": 1,
   "id": "d913cd33",
   "metadata": {},
   "outputs": [],
   "source": [
    "import os"
   ]
  },
  {
   "cell_type": "code",
   "execution_count": 2,
   "id": "6dac25e5",
   "metadata": {},
   "outputs": [],
   "source": [
    "from sqlalchemy import create_engine"
   ]
  },
  {
   "cell_type": "code",
   "execution_count": 3,
   "id": "eb84ad6f",
   "metadata": {},
   "outputs": [],
   "source": [
    "from llama_index import SQLDatabase"
   ]
  },
  {
   "cell_type": "code",
   "execution_count": 4,
   "id": "8ddc4533",
   "metadata": {},
   "outputs": [],
   "source": [
    "import torch"
   ]
  },
  {
   "cell_type": "code",
   "execution_count": 5,
   "id": "5b391e7d",
   "metadata": {},
   "outputs": [],
   "source": [
    "from llama_index.indices.struct_store.sql_query import NLSQLTableQueryEngine\n"
   ]
  },
  {
   "cell_type": "code",
   "execution_count": 6,
   "id": "2d528b46",
   "metadata": {},
   "outputs": [],
   "source": [
    "database=\"postgres\"\n",
    "username=\"postgres\"\n",
    "password=\"urpasshere\"\n",
    "host=\"hosthere\"\n",
    "port='5432'"
   ]
  },
  {
   "cell_type": "code",
   "execution_count": 7,
   "id": "f437aa7f",
   "metadata": {},
   "outputs": [],
   "source": [
    "db_uri=f\"postgresql+psycopg2://{username}:{password}@{host}:{port}/{database}\""
   ]
  },
  {
   "cell_type": "code",
   "execution_count": 8,
   "id": "637be409",
   "metadata": {},
   "outputs": [],
   "source": [
    "db_engine=create_engine(db_uri)\n",
    "sql_db=SQLDatabase(db_engine)"
   ]
  },
  {
   "cell_type": "code",
   "execution_count": 9,
   "id": "adff1a54",
   "metadata": {},
   "outputs": [],
   "source": [
    "from llama_index.llms import OpenAI \n"
   ]
  },
  {
   "cell_type": "code",
   "execution_count": 10,
   "id": "21eb0128",
   "metadata": {},
   "outputs": [],
   "source": [
    "llm=OpenAI(temperature=0.0, model=\"gpt-3.5-turbo\")"
   ]
  },
  {
   "cell_type": "code",
   "execution_count": 11,
   "id": "e7927349",
   "metadata": {},
   "outputs": [],
   "source": [
    "import openai"
   ]
  },
  {
   "cell_type": "code",
   "execution_count": 12,
   "id": "570b2175",
   "metadata": {},
   "outputs": [],
   "source": [
    " openai.api_key=\"sk-xyz\"\n"
   ]
  },
  {
   "cell_type": "code",
   "execution_count": 13,
   "id": "b48d1173",
   "metadata": {},
   "outputs": [],
   "source": [
    "query_engine=NLSQLTableQueryEngine(sql_database=sql_db)"
   ]
  },
  {
   "cell_type": "code",
   "execution_count": null,
   "id": "59813e75",
   "metadata": {},
   "outputs": [],
   "source": [
    "from sqlalchemy import text\n",
    "\n",
    "with db_engine.connect() as con:\n",
    "    rows = con.execute(text(\"SELECT * FROM public.test;\"))\n",
    "    for row in rows:\n",
    "        print(row)"
   ]
  },
  {
   "cell_type": "code",
   "execution_count": 17,
   "id": "8323b22b",
   "metadata": {
    "scrolled": true
   },
   "outputs": [
    {
     "name": "stdout",
     "output_type": "stream",
     "text": [
      "We have 3 rows in the claims table.\n"
     ]
    }
   ],
   "source": [
    "query_str=\"How many claims rows do we have ?\"\n",
    "response=query_engine.query(query_str)\n",
    "print(response.response)"
   ]
  },
  {
   "cell_type": "code",
   "execution_count": null,
   "id": "f1f4bdd9",
   "metadata": {},
   "outputs": [],
   "source": [
    "query_str=\"What are claim type do we have ?\"\n",
    "response=query_engine.query(query_str)\n",
    "print(response.response)"
   ]
  },
  {
   "cell_type": "code",
   "execution_count": null,
   "id": "fb018da2",
   "metadata": {},
   "outputs": [],
   "source": [
    "query_str=\"Can you summarize claims by claim type ?\"\n",
    "response=query_engine.query(query_str)\n",
    "print(response.response)"
   ]
  },
  {
   "cell_type": "code",
   "execution_count": null,
   "id": "3398f921",
   "metadata": {},
   "outputs": [],
   "source": [
    "query_str=\"Can you summarize claims info by assignee ?\"\n",
    "response=query_engine.query(query_str)\n",
    "print(response.response)"
   ]
  },
  {
   "cell_type": "code",
   "execution_count": null,
   "id": "45afc3bd",
   "metadata": {},
   "outputs": [],
   "source": [
    "query_str=\"Can you join claims and claims info table and summarize by assignee ?\"\n",
    "response=query_engine.query(query_str)\n",
    "print(response.response)"
   ]
  },
  {
   "cell_type": "code",
   "execution_count": null,
   "id": "766aa011",
   "metadata": {},
   "outputs": [],
   "source": [
    "query_str=\"Can you summarize claims assigned to Rangesh?\"\n",
    "response=query_engine.query(query_str)\n",
    "print(response.response)"
   ]
  },
  {
   "cell_type": "code",
   "execution_count": 15,
   "id": "25ff8631",
   "metadata": {},
   "outputs": [],
   "source": [
    "def predict(input, history):\n",
    "  response = query_engine.query(input)\n",
    "  return str(response)"
   ]
  },
  {
   "cell_type": "code",
   "execution_count": 16,
   "id": "36f0bfd8",
   "metadata": {},
   "outputs": [
    {
     "name": "stdout",
     "output_type": "stream",
     "text": [
      "Running on local URL:  http://127.0.0.1:7860\n",
      "\n",
      "Could not create share link. Missing file: D:\\ProgramData\\anaconda3\\Lib\\site-packages\\gradio\\frpc_windows_amd64_v0.2. \n",
      "\n",
      "Please check your internet connection. This can happen if your antivirus software blocks the download of this file. You can install manually by following these steps: \n",
      "\n",
      "1. Download this file: https://cdn-media.huggingface.co/frpc-gradio-0.2/frpc_windows_amd64.exe\n",
      "2. Rename the downloaded file to: frpc_windows_amd64_v0.2\n",
      "3. Move the file to this location: D:\\ProgramData\\anaconda3\\Lib\\site-packages\\gradio\n"
     ]
    },
    {
     "data": {
      "text/html": [
       "<div><iframe src=\"http://127.0.0.1:7860/\" width=\"100%\" height=\"500\" allow=\"autoplay; camera; microphone; clipboard-read; clipboard-write;\" frameborder=\"0\" allowfullscreen></iframe></div>"
      ],
      "text/plain": [
       "<IPython.core.display.HTML object>"
      ]
     },
     "metadata": {},
     "output_type": "display_data"
    },
    {
     "data": {
      "text/plain": []
     },
     "execution_count": 16,
     "metadata": {},
     "output_type": "execute_result"
    }
   ],
   "source": [
    "import gradio as gr\n",
    "\n",
    "gr.ChatInterface(predict).launch(share=True)"
   ]
  },
  {
   "cell_type": "code",
   "execution_count": null,
   "id": "60f295cd",
   "metadata": {},
   "outputs": [],
   "source": []
  }
 ],
 "metadata": {
  "kernelspec": {
   "display_name": "Python 3 (ipykernel)",
   "language": "python",
   "name": "python3"
  },
  "language_info": {
   "codemirror_mode": {
    "name": "ipython",
    "version": 3
   },
   "file_extension": ".py",
   "mimetype": "text/x-python",
   "name": "python",
   "nbconvert_exporter": "python",
   "pygments_lexer": "ipython3",
   "version": "3.11.4"
  }
 },
 "nbformat": 4,
 "nbformat_minor": 5
}
